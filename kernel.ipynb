{
  "cells": [
    {
      "metadata": {
        "_uuid": "8f2839f25d086af736a60e9eeb907d3b93b6e0e5",
        "_cell_guid": "b1076dfc-b9ad-4769-8c92-a6c4dae69d19",
        "trusted": true,
        "collapsed": true
      },
      "cell_type": "code",
      "source": "# This Python 3 environment comes with many helpful analytics libraries installed\n# It is defined by the kaggle/python docker image: https://github.com/kaggle/docker-python\n# For example, here's several helpful packages to load in \n\nimport numpy as np # linear algebra\nimport pandas as pd # data processing, CSV file I/O (e.g. pd.read_csv)\n\n# Input data files are available in the \"../input/\" directory.\n# For example, running this (by clicking run or pressing Shift+Enter) will list the files in the input directory\n\nimport os\nprint(os.listdir(\"../input\"))\n\n# Any results you write to the current directory are saved as output.",
      "execution_count": null,
      "outputs": []
    },
    {
      "metadata": {
        "_cell_guid": "79c7e3d0-c299-4dcb-8224-4455121ee9b0",
        "_uuid": "d629ff2d2480ee46fbb7e2d37f6b5fab8052498a",
        "trusted": true,
        "collapsed": true
      },
      "cell_type": "code",
      "source": "data = pd.read_csv('../input/train.csv')\ndata.head()",
      "execution_count": null,
      "outputs": []
    },
    {
      "metadata": {
        "trusted": true,
        "_uuid": "9e7c5e8eff7b7715a83a4b424538ed1248a59d3b",
        "collapsed": true
      },
      "cell_type": "code",
      "source": "data.describe()",
      "execution_count": null,
      "outputs": []
    },
    {
      "metadata": {
        "trusted": true,
        "_uuid": "f2875241e97972c0b7abf00e9ceec9d672299172",
        "collapsed": true
      },
      "cell_type": "code",
      "source": "print(sorted(data.columns))",
      "execution_count": null,
      "outputs": []
    },
    {
      "metadata": {
        "trusted": true,
        "_uuid": "6d812a47e4b2091777125e63a9ac16571312511d",
        "collapsed": true
      },
      "cell_type": "code",
      "source": "print(data.SalePrice.head(10))",
      "execution_count": null,
      "outputs": []
    },
    {
      "metadata": {
        "trusted": true,
        "_uuid": "46533b6408c0acdf8c8cf0fb815edd351048dfb7",
        "collapsed": true
      },
      "cell_type": "code",
      "source": "columns_of_interest = ['GarageQual', 'GarageType', 'GarageYrBlt', 'GrLivArea', 'HalfBath', 'Heating', 'HeatingQC', 'HouseStyle', 'Id', \n                       'KitchenAbvGr', 'KitchenQual', 'LandContour', 'LandSlope', 'LotArea', 'LotConfig', 'LotFrontage', 'LotShape', \n                       'LowQualFinSF', 'MSSubClass', 'MSZoning', 'MasVnrArea', 'MasVnrType', 'MiscFeature', 'MiscVal', 'MoSold',\n                       'Neighborhood', 'OpenPorchSF', 'OverallCond', 'OverallQual', 'PavedDrive', 'PoolArea', 'PoolQC', 'RoofMatl',\n                       'RoofStyle', 'SaleCondition', 'SalePrice','SaleType', 'ScreenPorch', 'Street', 'TotRmsAbvGrd', 'TotalBsmtSF',\n                       'Utilities', 'WoodDeckSF', 'YearBuilt', 'YearRemodAdd', 'YrSold']",
      "execution_count": null,
      "outputs": []
    },
    {
      "metadata": {
        "trusted": true,
        "_uuid": "15f6986d212f08b7edafe9a402fb686f2e63ea12",
        "collapsed": true
      },
      "cell_type": "code",
      "source": "columns_of_data = data[columns_of_interest]\ncolumns_of_data.describe()",
      "execution_count": null,
      "outputs": []
    },
    {
      "metadata": {
        "trusted": true,
        "collapsed": true,
        "_uuid": "4d34b7a5b59ea96f35b36464cb6c2f6dcb504075"
      },
      "cell_type": "code",
      "source": "y = data.SalePrice",
      "execution_count": null,
      "outputs": []
    },
    {
      "metadata": {
        "trusted": true,
        "collapsed": true,
        "_uuid": "95a485d24440e5e4fb164fb7a255a516c32cc604"
      },
      "cell_type": "code",
      "source": "predictioners = ['LotArea', 'YearBuilt', '1stFlrSF', '2ndFlrSF', 'FullBath', \n              'BedroomAbvGr', 'TotRmsAbvGrd']\nX = data[predictioners]",
      "execution_count": null,
      "outputs": []
    },
    {
      "metadata": {
        "trusted": true,
        "_uuid": "6cd49d7aa165d818883a0fb296d6331114ead001",
        "collapsed": true
      },
      "cell_type": "code",
      "source": "from sklearn.tree import DecisionTreeRegressor\nmodel = DecisionTreeRegressor()\nmodel.fit(X,y)",
      "execution_count": null,
      "outputs": []
    },
    {
      "metadata": {
        "trusted": true,
        "_uuid": "61011e46a1926689fb76c7c7e00402894e830293",
        "collapsed": true
      },
      "cell_type": "code",
      "source": "X.head()",
      "execution_count": null,
      "outputs": []
    },
    {
      "metadata": {
        "trusted": true,
        "_uuid": "371087350b1fc5b0db75d200b5d362c8091eaadc",
        "collapsed": true
      },
      "cell_type": "code",
      "source": "model.predict(X.head())",
      "execution_count": null,
      "outputs": []
    },
    {
      "metadata": {
        "trusted": true,
        "_uuid": "73967576c779195392f2c2e0b1eb1f82ff417414",
        "collapsed": true
      },
      "cell_type": "code",
      "source": "data.head(2)",
      "execution_count": null,
      "outputs": []
    },
    {
      "metadata": {
        "trusted": true,
        "collapsed": true,
        "_uuid": "12df5b0c239eae695bc38ac8016556f63da56fdd"
      },
      "cell_type": "code",
      "source": "from sklearn.model_selection import train_test_split\ntrain_X, val_X, train_y, val_y = train_test_split(X, y, random_state=0)",
      "execution_count": null,
      "outputs": []
    },
    {
      "metadata": {
        "trusted": true,
        "_uuid": "ec72094d129ac663c6dbc2924d893f2842724d19",
        "collapsed": true
      },
      "cell_type": "code",
      "source": "model = DecisionTreeRegressor()\nmodel.fit(train_X, train_y)",
      "execution_count": null,
      "outputs": []
    },
    {
      "metadata": {
        "trusted": true,
        "collapsed": true,
        "_uuid": "594c1434774ca0b149e74889fca5189c4eb21693"
      },
      "cell_type": "code",
      "source": "val_predictions = model.predict(val_X)",
      "execution_count": null,
      "outputs": []
    },
    {
      "metadata": {
        "trusted": true,
        "_uuid": "52e64a064eef91d96992b83e0e3fd947ed2733f8",
        "collapsed": true
      },
      "cell_type": "code",
      "source": "val_predictions",
      "execution_count": null,
      "outputs": []
    },
    {
      "metadata": {
        "trusted": true,
        "_uuid": "abf67ef8fd6895c98bb57d44bbdc6d89fa6296c9",
        "collapsed": true
      },
      "cell_type": "code",
      "source": "from sklearn.metrics import mean_absolute_error\nprint(mean_absolute_error(val_y, val_predictions))",
      "execution_count": null,
      "outputs": []
    },
    {
      "metadata": {
        "trusted": true,
        "_uuid": "c4a766469eccc0b74fba2db37a6db8c257f490da",
        "collapsed": true
      },
      "cell_type": "code",
      "source": "from sklearn.metrics import mean_absolute_error\nfrom sklearn.tree import DecisionTreeRegressor\n\ndef get_mae(max_leaf_nodes, train_X, train_y, test_X, test_y):\n    model = DecisionTreeRegressor(max_leaf_nodes=max_leaf_nodes, random_state=42)\n    model.fit(train_X, train_y)\n    y_pred = model.predict(test_X)\n    return mean_absolute_error(test_y, y_pred)\n\nfor max_leaf_nodes in [5, 50, 500, 5000]:\n    my_mae= get_mae(max_leaf_nodes, train_X, train_y, val_X, val_y)\n    print( \"Max leaf nodes: %d \\\\ Mean absolute Error %d\" %(max_leaf_nodes, my_mae))\n",
      "execution_count": null,
      "outputs": []
    },
    {
      "metadata": {
        "trusted": true,
        "_uuid": "6204332547be5c0f4f9ce6bebd4e727689a72c60",
        "collapsed": true
      },
      "cell_type": "code",
      "source": "from sklearn.ensemble import RandomForestRegressor\n\nfor max_leaf_nodes in [5, 50, 500, 5000]:\n    model2 = RandomForestRegressor(max_leaf_nodes=max_leaf_nodes)\n    model2.fit(train_X, train_y)\n    y_preds = model2.predict(val_X)\n    my_mae= mean_absolute_error(val_y, y_preds)\n    print( \"Max leaf nodes: %d \\\\ Mean absolute Error %d\" %(max_leaf_nodes, my_mae))",
      "execution_count": null,
      "outputs": []
    },
    {
      "metadata": {
        "trusted": true,
        "_uuid": "179ebc7439cbb539f7099dc575c53854a94b37f4",
        "collapsed": true
      },
      "cell_type": "code",
      "source": "import numpy as np\nimport pandas as pd\nfrom sklearn.ensemble import RandomForestRegressor\n\n# Read the data\ntrain = pd.read_csv('../input/train.csv')\n\n# pull data into target (y) and predictors (X)\ntrain_y = train.SalePrice\npredictor_cols = ['LotArea', 'OverallQual', 'YearBuilt', 'TotRmsAbvGrd']\n\n# Create training predictors data\ntrain_X = train[predictor_cols]\n\nmy_model = RandomForestRegressor()\nmy_model.fit(train_X, train_y)",
      "execution_count": null,
      "outputs": []
    },
    {
      "metadata": {
        "trusted": true,
        "_uuid": "a1783ab450d6d11c533516bca1560d004731179b",
        "collapsed": true
      },
      "cell_type": "code",
      "source": "# Read the test data\ntest = pd.read_csv('../input/test.csv')\n# Treat the test data in the same way as training data. In this case, pull same columns.\ntest_X = test[predictor_cols]\n# Use the model to make predictions\npredicted_prices = my_model.predict(test_X)\n# We will look at the predicted prices to ensure we have something sensible.\nprint(predicted_prices)",
      "execution_count": null,
      "outputs": []
    },
    {
      "metadata": {
        "trusted": true,
        "collapsed": true,
        "_uuid": "5de9231819b8b6951374b2f3a368da80166f0bf9"
      },
      "cell_type": "code",
      "source": "my_submission = pd.DataFrame({'Id': test.Id, 'SalePrice': predicted_prices})\n# you could use any filename. We choose submission here\nmy_submission.to_csv('submission.csv', index=False)",
      "execution_count": null,
      "outputs": []
    }
  ],
  "metadata": {
    "kernelspec": {
      "display_name": "Python 3",
      "language": "python",
      "name": "python3"
    },
    "language_info": {
      "name": "python",
      "version": "3.6.4",
      "mimetype": "text/x-python",
      "codemirror_mode": {
        "name": "ipython",
        "version": 3
      },
      "pygments_lexer": "ipython3",
      "nbconvert_exporter": "python",
      "file_extension": ".py"
    }
  },
  "nbformat": 4,
  "nbformat_minor": 1
}